{
 "nbformat": 4,
 "nbformat_minor": 0,
 "metadata": {
  "colab": {
   "name": "Embedding_predict.ipynb",
   "provenance": [],
   "collapsed_sections": []
  },
  "kernelspec": {
   "name": "python3",
   "display_name": "Python 3"
  },
  "language_info": {
   "name": "python"
  },
  "accelerator": "TPU",
  "gpuClass": "standard"
 },
 "cells": [
  {
   "cell_type": "code",
   "execution_count": 1,
   "metadata": {
    "id": "HpQKwQ1Yg5Nj",
    "pycharm": {
     "name": "#%%\n"
    }
   },
   "outputs": [],
   "source": [
    "import os\n",
    "\n",
    "import tensorflow as tf\n",
    "from tensorflow import keras\n",
    "from tensorflow.keras import layers\n",
    "import numpy as np\n",
    "import pandas as pd\n",
    "import matplotlib.pyplot as plt\n",
    "import numpy as np\n",
    "\n",
    "\n",
    "import PIL\n",
    "from PIL import Image\n",
    "import matplotlib.pyplot as plt\n",
    "import tensorflow.keras.backend as K\n",
    "from tensorflow.keras import Input, Model\n",
    "from tensorflow.keras.layers import LeakyReLU, BatchNormalization, ReLU, Activation\n",
    "from tensorflow.keras.layers import UpSampling2D, Conv2D, Concatenate, Dense, concatenate\n",
    "from tensorflow.keras.layers import Flatten, Lambda, Reshape, ZeroPadding2D, add\n",
    "from tensorflow.keras.optimizers import Adam\n",
    "from tensorflow.keras.preprocessing.image import ImageDataGenerator\n",
    "\n",
    "from keras.layers import Input, Flatten, Dense, Conv2D, BatchNormalization, LeakyReLU, Dropout, Activation\n",
    "from keras.models import Model\n",
    "from tensorflow.keras.utils import to_categorical\n",
    "import keras.backend as K"
   ]
  },
  {
   "cell_type": "code",
   "source": [
    "path = \"/content/drive/MyDrive/gan\""
   ],
   "metadata": {
    "id": "iWSw3aPakQar",
    "pycharm": {
     "name": "#%%\n"
    }
   },
   "execution_count": 3,
   "outputs": []
  },
  {
   "cell_type": "code",
   "source": [
    "# pass text here\n",
    "\n",
    "text = []\n",
    "\n",
    "with open(text_path) as f:\n",
    "     a = f.read()\n",
    "     text.append(a)\n",
    "\n",
    "text"
   ],
   "metadata": {
    "colab": {
     "base_uri": "https://localhost:8080/"
    },
    "id": "ntvBDEDykrIm",
    "outputId": "7da2f717-fa3f-4569-a14a-97666ba65215",
    "pycharm": {
     "name": "#%%\n"
    }
   },
   "execution_count": 9,
   "outputs": [
    {
     "output_type": "execute_result",
     "data": {
      "text/plain": [
       "['This woman turns her face towards the front side.\\nThis woman is about 38 to 43 years old and has narrow light-brown eyes with double eyelids, medium flat eyebrows, and olive skin with dimpled.\\nA woman with bushy medium eyebrows, small hazel eyes and an oval face.\\nThis woman has a medium hawk nose, a big thin mouth and a long face.\\nThis woman is about 25 to 32 years old with medium blond cape hair, oval shape face and medium white to olive skin.\\nThis woman has narrow bright eyes, thin eyebrows, a big nose, and a natural mouth opened.\\nA woman with an oval face, olive skin and blond hair covering up ears.\\nA woman has thin blond hair and olive skin.\\nThe woman has a long face with a big nose, thin mouth opened, big bright eyes, light soft-angled eyebrows and medium brown straight hair covering up ears.']"
      ]
     },
     "metadata": {},
     "execution_count": 9
    }
   ]
  },
  {
   "cell_type": "code",
   "source": [
    "from gensim.models import KeyedVectors,Word2Vec\n",
    "from gensim.utils import simple_preprocess\n",
    "\n",
    "# Text Preprocessing\n",
    "preprocessed_text = list(map(simple_preprocess,text))"
   ],
   "metadata": {
    "id": "RcdkDrlQlVgf",
    "pycharm": {
     "name": "#%%\n"
    }
   },
   "execution_count": 10,
   "outputs": []
  },
  {
   "cell_type": "code",
   "source": [
    "import tensorflow_hub as hub\n",
    "import tensorflow as tf\n",
    "embed = hub.load(\"https://tfhub.dev/google/elmo/3\")"
   ],
   "metadata": {
    "id": "M8QkVH2wllY0",
    "pycharm": {
     "name": "#%%\n"
    }
   },
   "execution_count": 12,
   "outputs": []
  },
  {
   "cell_type": "code",
   "source": [
    "text_as_string = []\n",
    "\n",
    "for text in preprocessed_text:\n",
    "  text_as_string.append(\" \".join(text))\n"
   ],
   "metadata": {
    "id": "EZayeiQplr-v",
    "pycharm": {
     "name": "#%%\n"
    }
   },
   "execution_count": 13,
   "outputs": []
  },
  {
   "cell_type": "code",
   "source": [
    "import numpy as np\n",
    "\n",
    "text_embed = []\n",
    "\n",
    "text_bededding = embed.signatures['default'](tf.constant([text_as_string[0]]))\n",
    "text_embed.append(text_bededding[\"default\"])\n",
    "text_embedding = np.array(text_embed)\n",
    "    "
   ],
   "metadata": {
    "id": "B_GVLqULmMNa",
    "pycharm": {
     "name": "#%%\n"
    }
   },
   "execution_count": 23,
   "outputs": []
  },
  {
   "cell_type": "code",
   "source": [
    "text_embedding.shape"
   ],
   "metadata": {
    "colab": {
     "base_uri": "https://localhost:8080/"
    },
    "id": "8DsHlTy1m0Nd",
    "outputId": "7e0f217c-cee4-4893-f7c1-a35a3921dae5",
    "pycharm": {
     "name": "#%%\n"
    }
   },
   "execution_count": 28,
   "outputs": [
    {
     "output_type": "execute_result",
     "data": {
      "text/plain": [
       "(1, 1, 1024)"
      ]
     },
     "metadata": {},
     "execution_count": 28
    }
   ]
  },
  {
   "cell_type": "code",
   "source": [
    "# save the models\n",
    "\n",
    "import pickle\n",
    "\n",
    "path = path+\"/init_embedding_values_girls_predict/\"\n",
    "\n",
    "with open(f'{path}embed_text_predict.pickle', 'wb') as f:\n",
    "    pickle.dump(text_embedding, f)"
   ],
   "metadata": {
    "id": "J09OEbi7n-C-",
    "pycharm": {
     "name": "#%%\n"
    }
   },
   "execution_count": 27,
   "outputs": []
  }
 ]
}