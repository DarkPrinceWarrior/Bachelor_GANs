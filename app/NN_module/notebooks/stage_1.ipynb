{
 "cells": [
  {
   "cell_type": "code",
   "execution_count": 1,
   "metadata": {
    "id": "6c8wajLAlb00",
    "pycharm": {
     "name": "#%%\n"
    }
   },
   "outputs": [],
   "source": [
    "\n",
    "import os\n",
    "\n",
    "import tensorflow as tf\n",
    "from tensorflow import keras\n",
    "from tensorflow.keras import layers\n",
    "import numpy as np\n",
    "import pandas as pd\n",
    "import matplotlib.pyplot as plt\n",
    "import numpy as np\n",
    "\n",
    "\n",
    "\n",
    "import PIL\n",
    "from PIL import Image\n",
    "import matplotlib.pyplot as plt\n",
    "import tensorflow.keras.backend as K\n",
    "from tensorflow.keras import Input, Model\n",
    "from tensorflow.keras.layers import LeakyReLU, BatchNormalization, ReLU, Activation\n",
    "from tensorflow.keras.layers import UpSampling2D, Conv2D, Concatenate, Dense, concatenate, Conv2DTranspose\n",
    "from tensorflow.keras.layers import Flatten, Lambda, Reshape, ZeroPadding2D, add\n",
    "from tensorflow.keras.optimizers import Adam, SGD\n",
    "from tensorflow.keras.preprocessing.image import ImageDataGenerator\n",
    "\n",
    "from keras.layers import Input, Flatten, Dense, Conv2D, BatchNormalization, LeakyReLU, Dropout, Activation\n",
    "from keras.models import Model\n",
    "from tensorflow.keras.utils import to_categorical\n",
    "import keras.backend as K\n",
    "\n",
    "\n",
    "\n"
   ]
  },
  {
   "cell_type": "code",
   "source": [
    "# to get access to google drive\n",
    "\n",
    "from google.colab import drive\n",
    "drive.mount('/content/drive')"
   ],
   "metadata": {
    "id": "bEpYtV-AoWp2",
    "outputId": "4784165d-7f70-4c5c-fb21-08d1c8064c2c",
    "colab": {
     "base_uri": "https://localhost:8080/"
    },
    "pycharm": {
     "name": "#%%\n"
    }
   },
   "execution_count": 13,
   "outputs": [
    {
     "output_type": "stream",
     "name": "stdout",
     "text": [
      "Drive already mounted at /content/drive; to attempt to forcibly remount, call drive.mount(\"/content/drive\", force_remount=True).\n"
     ]
    }
   ]
  },
  {
   "cell_type": "code",
   "source": [
    "# for google drive case in colab\n",
    "\n",
    "path = \"/content/drive/MyDrive/gan\""
   ],
   "metadata": {
    "id": "eE7twQGpmVOt",
    "pycharm": {
     "name": "#%%\n"
    }
   },
   "execution_count": 14,
   "outputs": []
  },
  {
   "cell_type": "markdown",
   "metadata": {
    "id": "MV2nxbV9lb09",
    "pycharm": {
     "name": "#%% md\n"
    }
   },
   "source": [
    "Conditioning Augmentation Network"
   ]
  },
  {
   "cell_type": "code",
   "execution_count": 4,
   "metadata": {
    "id": "zbdDLfrplb1A",
    "pycharm": {
     "name": "#%%\n"
    }
   },
   "outputs": [],
   "source": [
    "# conditioned by the text.\n",
    "def conditioning_augmentation(x):\n",
    "\t\"\"\"The mean_logsigma passed as argument is converted into the text conditioning variable.\n",
    "\n",
    "\tArgs:\n",
    "\t\tx: The output of the text embedding passed through a FC layer with LeakyReLU non-linearity.\n",
    "\n",
    "\tReturns:\n",
    "\t \tc: The text conditioning variable after computation.\n",
    "\t\"\"\"\n",
    "\tmean = x[:, :128]\n",
    "\tlog_sigma = x[:, 128:]\n",
    "\n",
    "\tstddev = tf.math.exp(log_sigma)\n",
    "\tepsilon = K.random_normal(shape=K.constant((mean.shape[1], ), dtype='int32'))\n",
    "\tc = mean + stddev * epsilon\n",
    "\treturn c\n",
    "\n",
    "def build_ca_network():\n",
    "\t\"\"\"Builds the conditioning augmentation network.\n",
    "\t\"\"\"\n",
    "\tinput_layer1 = Input(shape=(1024,)) #size of the vocabulary in the text data\n",
    "\tmls = Dense(256)(input_layer1)\n",
    "\tmls = LeakyReLU(alpha=0.2)(mls)\n",
    "\tca = Lambda(conditioning_augmentation)(mls)\n",
    "\treturn Model(inputs=[input_layer1], outputs=[ca])"
   ]
  },
  {
   "cell_type": "markdown",
   "metadata": {
    "id": "WXZhDmmJlb1D",
    "pycharm": {
     "name": "#%% md\n"
    }
   },
   "source": [
    "Stage 1 Generator Network"
   ]
  },
  {
   "cell_type": "code",
   "execution_count": 5,
   "metadata": {
    "id": "0v1MHgKKlb1F",
    "pycharm": {
     "name": "#%%\n"
    }
   },
   "outputs": [],
   "source": [
    "def UpSamplingBlock(x, num_kernels, index=0):\n",
    "\t\"\"\"An Upsample block with Upsampling2D, Conv2D, BatchNormalization and a ReLU activation.\n",
    "\n",
    "\tArgs:\n",
    "\t\tx: The preceding layer as input.\n",
    "\t\tnum_kernels: Number of kernels for the Conv2D layer.\n",
    "\n",
    "\tReturns:\n",
    "\t\tx: The final activation layer after the Upsampling block.\n",
    "\t\"\"\"\n",
    "  \n",
    "\t# x = Conv2DTranspose(num_kernels, kernel_size=(2,2), strides=(2,2))(x)\n",
    "\n",
    "\tx = UpSampling2D(size=(2,2))(x) # was originally\n",
    "\tx = Conv2D(num_kernels, kernel_size=(3,3), padding='same', strides=1, use_bias=False,\n",
    "\t\t\t\tkernel_initializer='he_uniform')(x)\n",
    "\tx = BatchNormalization(gamma_initializer='ones', beta_initializer='zeros')(x) #prevent from mode collapse\n",
    "\tx = LeakyReLU(alpha=0.2)(x) # ReLU(x)\n",
    "\tx = Dropout(0.5)(x) # custom\n",
    "\treturn x\n",
    "\n",
    "\n",
    "def build_stage1_generator():\n",
    "\n",
    "\tinput_layer1 = Input(shape=(1024,))\n",
    "\tca = Dense(256)(input_layer1)\n",
    "\tca = LeakyReLU(alpha=0.2)(ca)\n",
    "\n",
    "\t# Obtain the conditioned text\n",
    "\tc = Lambda(conditioning_augmentation)(ca)\n",
    "\n",
    "\tinput_layer2 = Input(shape=(100,))\n",
    "\tconcat = Concatenate(axis=1)([c, input_layer2])\n",
    "\n",
    "\tx = Dense(16384, use_bias=False)(concat) \n",
    "\tx = LeakyReLU()(x) # ReLU\n",
    "\tprint(x.shape)\n",
    "\tx = Reshape((4, 4, 1024), input_shape=(16384,))(x)\n",
    " \n",
    "\tx = UpSamplingBlock(x, 512)\n",
    "\tx = UpSamplingBlock(x, 256)  # upsampled our image to 64*64*3 \n",
    "\tx = UpSamplingBlock(x, 128,index=1)  # upsampled our image to 64*64*3 \n",
    "\tx = UpSamplingBlock(x, 64, index=1)  # upsampled our image to 64*64*3 \n",
    "\n",
    "\tx = Conv2D(3, kernel_size=3, padding='same', strides=1, use_bias=False,\n",
    "\t\t\t\tkernel_initializer='he_uniform')(x)\n",
    "\tx = Activation('tanh')(x)\n",
    "\n",
    "\tstage1_gen = Model(inputs=[input_layer1, input_layer2], outputs=[x, ca]) \n",
    "\treturn stage1_gen\n",
    "\n"
   ]
  },
  {
   "cell_type": "markdown",
   "metadata": {
    "id": "Z_LKwfpAlb1H",
    "pycharm": {
     "name": "#%% md\n"
    }
   },
   "source": [
    "Stage 1 Discriminator Network"
   ]
  },
  {
   "cell_type": "code",
   "execution_count": 6,
   "metadata": {
    "id": "4OiA-hYmlb1I",
    "pycharm": {
     "name": "#%%\n"
    }
   },
   "outputs": [],
   "source": [
    "def ConvBlock(x, num_kernels, kernel_size=(4,4), strides=2, activation=True):\n",
    "\t\"\"\"A ConvBlock with a Conv2D, BatchNormalization and LeakyReLU activation.\n",
    "\n",
    "\tArgs:\n",
    "\t\tx: The preceding layer as input.\n",
    "\t\tnum_kernels: Number of kernels for the Conv2D layer.\n",
    "\n",
    "\tReturns:\n",
    "\t\tx: The final activation layer after the ConvBlock block.\n",
    "\t\"\"\"\n",
    "\tx = Conv2D(num_kernels, kernel_size=kernel_size, padding='same', strides=strides, use_bias=False,\n",
    "\t\t\t\tkernel_initializer='he_uniform')(x)\n",
    "\tx = BatchNormalization(gamma_initializer='ones', beta_initializer='zeros')(x)\n",
    "\t\n",
    "\tif activation:\n",
    "\t\tx = LeakyReLU(alpha=0.2)(x)\n",
    "\treturn x\n",
    "\n",
    "\n",
    "def build_embedding_compressor():\n",
    "\n",
    "\t\"\"\"Build embedding compressor model\n",
    "\t\"\"\"\n",
    "\n",
    "\tinput_layer1 = Input(shape=(1024,))\n",
    "\tx = Dense(128)(input_layer1)\n",
    "\tx = LeakyReLU()(x) # ReLU\n",
    "\n",
    "\n",
    "\tmodel = Model(inputs=[input_layer1], outputs=[x])\n",
    "\treturn model\n",
    "\n",
    "\n",
    "\n",
    "# the discriminator is fed with two inputs, the feature from Generator and the text embedding\n",
    "def build_stage1_discriminator():\n",
    "\t\"\"\"Builds the Stage 1 Discriminator that uses the 64x64 resolution images from the generator\n",
    "\tand the compressed and spatially replicated embedding.\n",
    "\n",
    "\tReturns:\n",
    "\t\tStage 1 Discriminator Model for StackGAN.\n",
    "\t\"\"\"\n",
    "\t\n",
    "\tinput_layer1 = Input(shape=(64, 64, 3))  \n",
    "\n",
    "\tx = Conv2D(64, kernel_size=(4,4), strides=2, padding='same', use_bias=False,\n",
    "\t\t\t\tkernel_initializer='he_uniform')(input_layer1)\t\t\n",
    "\t\t\t\t\n",
    "\tx = LeakyReLU(alpha=0.2)(x)\n",
    "\n",
    "\tx = ConvBlock(x, 128)\n",
    "\tx = ConvBlock(x, 256)\n",
    "\tx = ConvBlock(x, 512)\n",
    "\n",
    "\t# Obtain the compressed and spatially replicated text embedding\n",
    "\tinput_layer2 = Input(shape=(4, 4, 128)) #2nd input to discriminator, text embedding\n",
    "\tconcat = concatenate([x, input_layer2])\n",
    "\n",
    "\tx1 = Conv2D(512, kernel_size=(1,1), padding='same', strides=1, use_bias=False,\n",
    "\t\t\t\tkernel_initializer='he_uniform')(concat)\n",
    "\tx1 = BatchNormalization(gamma_initializer='ones', beta_initializer='zeros')(x)\n",
    "\tx1 = LeakyReLU(alpha=0.2)(x)\n",
    "\n",
    "\t# Flatten and add a FC layer to predict.\n",
    "\tx1 = Flatten()(x1)\n",
    "\tx1 = Dense(1)(x1)\n",
    "\tx1 = Activation('sigmoid')(x1)\n",
    "\n",
    "\tstage1_dis = Model(inputs=[input_layer1, input_layer2], outputs=[x1])  \n",
    "\treturn stage1_dis"
   ]
  },
  {
   "cell_type": "markdown",
   "metadata": {
    "id": "kjFOPtlnlb1L",
    "pycharm": {
     "name": "#%% md\n"
    }
   },
   "source": [
    "Stage 1 Adversarial Model (Building a GAN)"
   ]
  },
  {
   "cell_type": "code",
   "execution_count": 7,
   "metadata": {
    "id": "_ksYdIJVlb1M",
    "pycharm": {
     "name": "#%%\n"
    }
   },
   "outputs": [],
   "source": [
    "# Building GAN with Generator and Discriminator\n",
    "\n",
    "def build_adversarial(generator_model, discriminator_model):\n",
    "\t\"\"\"Stage 1 Adversarial model.\n",
    "\n",
    "\tArgs:\n",
    "\t\tgenerator_model: Stage 1 Generator Model\n",
    "\t\tdiscriminator_model: Stage 1 Discriminator Model\n",
    "\n",
    "\tReturns:\n",
    "\t\tAdversarial Model.\n",
    "\t\"\"\"\n",
    "\tinput_layer1 = Input(shape=(1024,))  \n",
    "\tinput_layer2 = Input(shape=(100,)) \n",
    "\tinput_layer3 = Input(shape=(4, 4, 128)) \n",
    "\n",
    "\tx, ca = generator_model([input_layer1, input_layer2]) #text,noise\n",
    "\n",
    "\tdiscriminator_model.trainable = False \n",
    "\n",
    "\tprobabilities = discriminator_model([x, input_layer3]) \n",
    "\tadversarial_model = Model(inputs=[input_layer1, input_layer2, input_layer3], outputs=[probabilities, ca])\n",
    "\treturn adversarial_model"
   ]
  },
  {
   "cell_type": "markdown",
   "metadata": {
    "id": "V6zjdctKlb1O",
    "pycharm": {
     "name": "#%% md\n"
    }
   },
   "source": [
    "# Train Utilities\n"
   ]
  },
  {
   "cell_type": "code",
   "execution_count": 8,
   "metadata": {
    "id": "Bg2PWV8Ylb1P",
    "pycharm": {
     "name": "#%%\n"
    }
   },
   "outputs": [],
   "source": [
    "# the loss function of completed model\n",
    "import pickle\n",
    "\n",
    "def adversarial_loss(y_true, y_pred):\n",
    "\tmean = y_pred[:, :128]\n",
    "\tls = y_pred[:, 128:]\n",
    "\tloss = -ls + 0.5 * (-1 + tf.math.exp(2.0 * ls) + tf.math.square(mean))\n",
    "\tloss = K.mean(loss)\n",
    "\treturn loss\n",
    "\n",
    "\n",
    "def normalize(input_image, real_image):\n",
    "\tinput_image = (input_image / 127.5) - 1\n",
    "\treal_image = (real_image / 127.5) - 1\n",
    "\n",
    "\treturn input_image, real_image\n",
    "\n",
    "\n",
    "\n",
    "def load_text_embeddings(text_embeddings):\n",
    "    \n",
    "\t\twith open(text_embeddings, 'rb') as f:\n",
    "\t\t\tembeds = pickle.load(f)\n",
    "\t\t\n",
    "\t\treturn embeds\n",
    "    \n",
    "\n",
    "# for girls dataset\n",
    "def load_bbox(data_path):\n",
    "\tb_boxes_list = []\n",
    "\t\n",
    "\twith open(data_path) as file:\n",
    "\t\tfor line in file:\n",
    "\t\t\trow = line.rstrip().split()\n",
    "\t\t\tb_boxes_list.append(row[1:])\n",
    "\treturn b_boxes_list\n",
    "    \n",
    "\n",
    "def save_image(file, save_path):\n",
    "\t\"\"\"Saves the image at the specified file path.\n",
    "\t\"\"\"\n",
    "\timage = plt.figure()\n",
    "\tax = image.add_subplot(1,1,1)\n",
    "\tax.imshow(file)\n",
    "\tax.axis(\"off\")\n",
    "\tplt.savefig(save_path)\n",
    "\n",
    "\n",
    "def load_data(dataset_path, embeddings_path):\n",
    "\t\"\"\"load dataset\"\"\"\n",
    "\t\n",
    "\tembeddings = load_text_embeddings(embeddings_path)\n",
    "\tx, embeds  = [],[]\n",
    "\tbbox_list = load_bbox(path+\"/girls_dataset/bounding_boxes.txt\")\n",
    "\n",
    "\tindex = 0\n",
    "\t\n",
    "\t\n",
    "\t# girls dataset open .pickle filenames\n",
    "\timages_path = path+\"/girls_dataset/Image/00_Female/\"\n",
    "\twith open(dataset_path, 'rb') as f:\n",
    "\t\timages_names = pickle.load(f)\n",
    "\t\n",
    "\tfor name in images_names:\n",
    "\t\timage_name = name[10:]+\".png\"\n",
    "\t\t# image_name = name.removeprefix(\"00_Female/\")+\".png\"\n",
    "\t\t\n",
    "\t\t# load image from path\n",
    "\t\timage = Image.open(images_path+image_name)\n",
    "\t\t\n",
    "\t\tbounds_list_values = bbox_list[index]\n",
    "\t\ta = list(map(float, bounds_list_values))\n",
    "\t\tbounding_box = list(map(int, a))\n",
    "\t\t# crop image\n",
    "\t\tif bounding_box is not None:\n",
    "\t\t\timage = image.crop(bounding_box)\n",
    "\t\t\t\n",
    "\t\n",
    "\t\timage = image.resize((64,64), PIL.Image.BILINEAR)\n",
    "\t\ttry:\n",
    "\t\t\te = embeddings[index, :, :]\n",
    "\t\t\tx.append(np.array(image))\n",
    "\t\t\tembeds.append(e.reshape(-1))\n",
    "\t\t\t\n",
    "\t\texcept Exception as e:\n",
    "\t\t\tprint(f'{e}')\n",
    "\t\t\t\n",
    "\t\t# move to the next image and embed\n",
    "\t\tindex+=1\n",
    "\t\t# if dataset_path == \"train/\" and index == 4500:\n",
    "\t\t# \tbreak\n",
    "\t\t# elif dataset_path == \"test/\" and index == 700:\n",
    "\t\t# \tbreak\n",
    "\t\n",
    "\tx = np.array(x)\n",
    "\tembeds = np.array(embeds)\n",
    "\t\n",
    "\treturn x, embeds\n",
    "\t\n",
    "\t# for file_name in os.listdir(dataset_path):\n",
    "\t\t\n",
    "\t\n",
    "\t# \t# load image from path\n",
    "\t# \timage = Image.open(dataset_path+file_name)\n",
    "\t\t\n",
    "\t# \tbounds_list_values = bbox_list[index]\n",
    "\t# \ta = list(map(float, bounds_list_values))\n",
    "\t# \tbounding_box = list(map(int, a))\n",
    "\t\t\n",
    "\t# \t# crop image\n",
    "\t# \tif bounding_box is not None:\n",
    "\t# \t\timage = image.crop(bounding_box)\n",
    "\t\t\t\n",
    "\t\n",
    "\t# \timage = image.resize((64,64), PIL.Image.Resampling.BILINEAR)\n",
    "\t# \ttry:\n",
    "\t# \t\te = embeddings[index, :, :]\n",
    "\t# \t\tx.append(np.array(image))\n",
    "\t# \t\tembeds.append(e)\n",
    "\t\t\t\n",
    "\t# \texcept Exception as e:\n",
    "\t# \t\tprint(f'{e}')\n",
    "\t\t\t\n",
    "\t# \t# move to the next image and embed\n",
    "\t# \tindex+=1\n",
    "\t# \tif dataset_path == \"train/\" and index == 4500:\n",
    "\t# \t\tbreak\n",
    "\t# \telif dataset_path == \"test/\" and index == 700:\n",
    "\t# \t\tbreak\n",
    "\t\n",
    "\t# x = np.array(x)\n",
    "\t# embeds = np.array(embeds)\n",
    "\t\n",
    "\t# return x, embeds\n",
    "\t"
   ]
  },
  {
   "cell_type": "code",
   "source": [
    "\n",
    "class StackGanStage1(object):\n",
    "    \n",
    "\n",
    "\tdef __init__(self, epochs=1000, z_dim=100, batch_size=64, enable_function=True, \n",
    "\t\tstage1_generator_lr=0.0002, stage1_discriminator_lr=0.0002):\n",
    "\n",
    "\t\t\n",
    "\n",
    "        # StackGAN hyperparameters\n",
    "\t\tself.epochs = epochs\n",
    "\t\tself.z_dim = z_dim\n",
    "\t\tself.enable_function = enable_function\n",
    "\t\tself.stage1_generator_lr = stage1_generator_lr\n",
    "\t\tself.stage1_discriminator_lr = stage1_discriminator_lr\n",
    "\t\tself.image_size = 64\n",
    "\t\tself.conditioning_dim = 128\n",
    "\t\tself.batch_size = batch_size\n",
    "\n",
    "  \n",
    "\n",
    "\t\t# ADAM optimizer for both models of DIS and GEN\n",
    "\t\tself.stage1_generator_optimizer = Adam(learning_rate=stage1_generator_lr, beta_1=0.5, beta_2=0.999)\n",
    "\t\tself.stage1_discriminator_optimizer = Adam(learning_rate=stage1_discriminator_lr, beta_1=0.5, beta_2=0.999)\n",
    "\t\t# self.stage1_discriminator_optimizer = SGD(learning_rate=0.1, momentum=0.9)\n",
    "\t\t\t\n",
    "        # create the generator model of 1st stage \n",
    "\t\tself.stage1_generator = build_stage1_generator()\n",
    "\t\tself.stage1_generator.compile(loss='mse', optimizer=self.stage1_generator_optimizer)\n",
    "\t\t\n",
    "\t\t# load model weights after 150 epochs\n",
    "\t\t# self.stage1_generator.load_weights(\"weights/stage1_gen.h5\")\n",
    "\n",
    "        # create the discriminator model of 1st stage \n",
    "\t\tself.stage1_discriminator = build_stage1_discriminator()\n",
    "\t\tself.stage1_discriminator.compile(loss='binary_crossentropy', \n",
    "                                    optimizer=self.stage1_discriminator_optimizer)\n",
    "                                    \n",
    "        # load model weights after 150 epochs\n",
    "\t\t# self.stage1_discriminator.load_weights(\"weights/stage1_disc.h5\")\n",
    "        \n",
    "        # create the block(network) that perfoms Conditional Augmentation with embeddings \n",
    "\t\tself.ca_network = build_ca_network()\n",
    "\t\tself.ca_network.compile(loss='binary_crossentropy', optimizer='Adam')\n",
    "        \n",
    "        # load model weights after 150 epochs\n",
    "\t\t# self.ca_network.load_weights(\"weights/stage1_ca.h5\")\n",
    "        \n",
    "\t\tself.embedding_compressor = build_embedding_compressor()\n",
    "\t\tself.embedding_compressor.compile(loss='binary_crossentropy', optimizer='Adam')\n",
    "\t\t\n",
    "\t\t# load model weights after 150 epochs\n",
    "\t\t# self.embedding_compressor.load_weights(\"weights/stage1_embco.h5\")\n",
    "\n",
    "        # create the completed GAN model \n",
    "\t\tself.stage1_adversarial = build_adversarial(self.stage1_generator, self.stage1_discriminator)\n",
    "  \n",
    "\t\tself.stage1_adversarial.compile(loss=['binary_crossentropy', adversarial_loss], \n",
    "                                  loss_weights=[1, 2.0], \n",
    "                                  optimizer=self.stage1_generator_optimizer)\n",
    "                                  \n",
    "        # load model weights after 150 epochs\n",
    "\t\t# self.stage1_adversarial.load_weights(\"weights/stage1_adv.h5\")\n",
    "         \n",
    "         \n",
    "\t\tself.checkpoint1 = tf.train.Checkpoint(\n",
    "\t\t\t\tgenerator_optimizer=self.stage1_generator_optimizer,\n",
    "\t\t\t\tdiscriminator_optimizer=self.stage1_discriminator_optimizer,\n",
    "\t\t\t\tgenerator=self.stage1_generator,\n",
    "\t\t\t\tdiscriminator=self.stage1_discriminator)\n",
    "\n",
    "\n",
    "\tdef train_stage1(self):\n",
    "\t\t\"\"\"Trains the stage1 StackGAN.\n",
    "\t\t\"\"\"\n",
    "\t\t\n",
    "\t\t\n",
    "\t\t\n",
    "\t\t# for girls dataset\n",
    "\n",
    "\t\tpath = \"/content/drive/MyDrive/gan\"\n",
    "\n",
    "\t\tdataset_train_path = path+\"/girls_dataset/Train/filenames.pickle\"\n",
    "\t\tdataset_test_path =  path+\"/girls_dataset/Test/filenames.pickle\"\n",
    "\t\tembeddings_path_train_file = path+\"/init_embedding_values_girls/embed_train.pickle\"\n",
    "\t\tembeddings_path_test_file = path+\"/init_embedding_values_girls/embed_test.pickle\"\n",
    "\t\t\n",
    "\t\tx_train, train_embeds = load_data(dataset_path=dataset_train_path, embeddings_path=embeddings_path_train_file)\n",
    "\n",
    "\t\tx_test, test_embeds = load_data(dataset_path=dataset_test_path, embeddings_path=embeddings_path_test_file)\n",
    "\t\t\n",
    "\t\tprint(len(x_test),len(test_embeds))\n",
    "\t\tprint(len(x_train),len(train_embeds))\n",
    "\t\t\n",
    "\t\tprint(x_test.shape,test_embeds.shape)\n",
    "\t\tprint(x_train.shape,train_embeds.shape)\n",
    "\t\t\n",
    "\n",
    "\t\treal = np.ones((self.batch_size, 1), dtype='float') * 0.9\n",
    "\t\tfake = np.zeros((self.batch_size, 1), dtype='float') * 0.1\n",
    "\n",
    "\t\tfor epoch in range(self.epochs):\n",
    "\t\t\tprint(f'EPOCH: {epoch}')\n",
    "\n",
    "\t\t\tgen_loss = []\n",
    "\t\t\tdis_loss = []\n",
    "\n",
    "\t\t\tnum_batches = int(x_train.shape[0] / self.batch_size)\n",
    "\n",
    "\t\t\tfor i in range(num_batches):\n",
    "\n",
    "\t\t\t\tlatent_space = np.random.normal(0, 1, size=(self.batch_size, self.z_dim))\n",
    "\t\t\t\tembedding_text = train_embeds[i * self.batch_size:(i + 1) * self.batch_size]\n",
    "\t\t\t\tcompressed_embedding = self.embedding_compressor.predict_on_batch(embedding_text)\n",
    "\t\t\t\tcompressed_embedding = np.reshape(compressed_embedding, (-1, 1, 1, 128))\n",
    "\t\t\t\tcompressed_embedding = np.tile(compressed_embedding, (1, 4, 4, 1))\n",
    "\n",
    "\t\t\t\timage_batch = x_train[i * self.batch_size:(i+1) * self.batch_size]\n",
    "\t\t\t\timage_batch = (image_batch - 127.5) / 127.5\n",
    "\n",
    "\t\t\t\tgen_images, _ = self.stage1_generator.predict([embedding_text, latent_space])\n",
    "\n",
    "\t\t\t\tdiscriminator_loss = self.stage1_discriminator.train_on_batch([image_batch, compressed_embedding], \n",
    "\t\t\t\t\t\tnp.reshape(real, (self.batch_size, 1)))\n",
    "\n",
    "\t\t\t\tdiscriminator_loss_gen = self.stage1_discriminator.train_on_batch([gen_images, compressed_embedding],\n",
    "\t\t\t\t\t\tnp.reshape(fake, (self.batch_size, 1)))\n",
    "\n",
    "\t\t\t\tdiscriminator_loss_wrong = self.stage1_discriminator.train_on_batch([gen_images[: self.batch_size-1], \n",
    "\t\t\t\tcompressed_embedding[1:]], \n",
    "\t\t\t\t\t\tnp.reshape(fake[1:], (self.batch_size-1, 1)))\n",
    "\n",
    "\t\t\t\t# Discriminator loss\n",
    "\t\t\t\td_loss = 0.5 * np.add(discriminator_loss, 0.5 * np.add(discriminator_loss_gen, discriminator_loss_wrong))\n",
    "\t\t\t\tdis_loss.append(d_loss)\n",
    "\t\t\t\t\n",
    "\t\t\t\tprint(f'Discriminator Loss: {d_loss}')\n",
    "\n",
    "\t\t\t\t# Generator loss\n",
    "\t\t\t\tg_loss = self.stage1_adversarial.train_on_batch([embedding_text, latent_space, compressed_embedding],\n",
    "\t\t\t\t\t\t[K.ones((self.batch_size, 1)) * 0.9, K.ones((self.batch_size, 256)) * 0.9])\n",
    "\n",
    "\t\t\t\tprint(f'Generator Loss: {g_loss}')\n",
    "\t\t\t\tgen_loss.append(g_loss)\n",
    "\n",
    "\t\t\t\tif epoch % 5 == 0:\n",
    "\t\t\t\t\t\tlatent_space = np.random.normal(0, 1, size=(self.batch_size, self.z_dim))\n",
    "\t\t\t\t\t\tembedding_batch = test_embeds[0 : self.batch_size]\n",
    "\t\t\t\t\t\tgen_images, _ = self.stage1_generator.predict_on_batch([embedding_batch, latent_space])\n",
    "\n",
    "\t\t\t\t\t\tfor i, image in enumerate(gen_images[:10]):\n",
    "\t\t\t\t\t\t\tsave_image(image, path+f'/image_test_result_stage_1/gen_1_{epoch}_{i}')\n",
    "\n",
    "\t\t\t\t# we trained weights up to 25 epoch so we start from 25\n",
    "\t\t\t\t# if epoch > 25:\n",
    "\n",
    "\t\t\t\tpath = path+\"/\"\n",
    "\t\t\t\tif epoch % 25 == 0:\n",
    "\t\t\t\t\tself.stage1_generator.save_weights(path+'weights_stage_1/stage1_gen.h5')\n",
    "\t\t\t\t\tself.stage1_discriminator.save_weights(path+\"weights_stage_1/stage1_disc.h5\")\n",
    "\t\t\t\t\tself.ca_network.save_weights(path+'weights_stage_1/stage1_ca.h5')\n",
    "\t\t\t\t\tself.embedding_compressor.save_weights(path+'weights_stage_1/stage1_embco.h5')\n",
    "\t\t\t\t\tself.stage1_adversarial.save_weights(path+'weights_stage_1/stage1_adv.h5')  \n",
    "\t\t \n",
    "      # if gradient of gen is out of 100 each batch so then we finish training after 30 epochs \n",
    "\t\t\tif epoch > 1 and np.sum(gen_loss) > 600:\n",
    "\t\t\t\tbreak \n",
    "\n",
    "\t\tself.stage1_generator.save_weights(path+'weights_stage_1/stage1_gen.h5')\n",
    "\t\tself.stage1_discriminator.save_weights(path+\"weights_stage_1/stage1_disc.h5\")\n",
    "    \n",
    "    "
   ],
   "metadata": {
    "id": "jFcdv-pruLfg",
    "pycharm": {
     "name": "#%%\n"
    }
   },
   "execution_count": null,
   "outputs": []
  },
  {
   "cell_type": "code",
   "source": [
    "def load_text_embeddings(text_embeddings):\n",
    "    \n",
    "\t\twith open(text_embeddings, 'rb') as f:\n",
    "\t\t\tembeds = pickle.load(f)\n",
    "\t\t\n",
    "\t\treturn embeds\n",
    "\n",
    "\n",
    "def load_data_predict(embeddings_path):\n",
    "  \"\"\"load text\"\"\"\n",
    "\n",
    "  embeddings = load_text_embeddings(embeddings_path)\n",
    "  embeds  = []\n",
    "\n",
    "  try:\n",
    "    e = embeddings[0, :, :]\n",
    "    embeds.append(e.reshape(-1))\n",
    "\n",
    "  except Exception as e:\n",
    "    print(f'{e}')\n",
    "\n",
    "\n",
    "  embeds = np.array(embeds)\n",
    "\n",
    "  return embeds\n",
    "\t"
   ],
   "metadata": {
    "id": "0h0nDhZiqG8k",
    "pycharm": {
     "name": "#%%\n"
    }
   },
   "execution_count": 20,
   "outputs": []
  },
  {
   "cell_type": "markdown",
   "source": [
    "## **Predict the image**"
   ],
   "metadata": {
    "id": "P4tviLa8Yw3b",
    "pycharm": {
     "name": "#%% md\n"
    }
   }
  },
  {
   "cell_type": "code",
   "source": [
    "import datetime\n",
    "\n",
    "\n",
    "\n",
    "class StackGanStage1(object):\n",
    "    \n",
    "\n",
    "\tdef __init__(self, epochs=1000, z_dim=100, enable_function=True, \n",
    "\t\tstage1_generator_lr=0.0002, stage1_discriminator_lr=0.0002):\n",
    "\n",
    "\t\n",
    "    # StackGAN hyperparameters\n",
    "\t\tself.z_dim = z_dim\n",
    "\t\tself.batch_size = 1\n",
    "\t\tself.enable_function = enable_function\n",
    "\t\tself.stage1_generator_lr = stage1_generator_lr\n",
    "\t\tself.stage1_discriminator_lr = stage1_discriminator_lr\n",
    "\t\tself.image_size = 64\n",
    "\t\tself.conditioning_dim = 128\n",
    "\n",
    "\t\tpath = \"/content/drive/MyDrive/gan/\"\n",
    "\n",
    "  \n",
    "\n",
    "\t\t# ADAM optimizer for both models of DIS and GEN\n",
    "\t\tself.stage1_generator_optimizer = Adam(learning_rate=stage1_generator_lr, beta_1=0.5, beta_2=0.999)\n",
    "\t\tself.stage1_discriminator_optimizer = Adam(learning_rate=stage1_discriminator_lr, beta_1=0.5, beta_2=0.999)\n",
    "\t\t# self.stage1_discriminator_optimizer = SGD(learning_rate=0.1, momentum=0.9)\n",
    "\t\t\t\n",
    "        # create the generator model of 1st stage \n",
    "\t\tself.stage1_generator = build_stage1_generator()\n",
    "\t\tself.stage1_generator.compile(loss='mse', optimizer=self.stage1_generator_optimizer)\n",
    "\t\t\n",
    "\t\t# load model weights after 600 epochs\n",
    "\t\tself.stage1_generator.load_weights(path+\"weights_stage_1/stage1_gen.h5\")\n",
    "\n",
    "        # create the discriminator model of 1st stage \n",
    "\t\tself.stage1_discriminator = build_stage1_discriminator()\n",
    "\t\tself.stage1_discriminator.compile(loss='binary_crossentropy', \n",
    "                                    optimizer=self.stage1_discriminator_optimizer)\n",
    "                                    \n",
    "    # load model weights after 600 epochs\n",
    "\t\tself.stage1_discriminator.load_weights(path+\"weights_stage_1/stage1_disc.h5\")\n",
    "        \n",
    "    # create the block(network) that perfoms Conditional Augmentation with embeddings \n",
    "\t\tself.ca_network = build_ca_network()\n",
    "\t\tself.ca_network.compile(loss='binary_crossentropy', optimizer='Adam')\n",
    "        \n",
    "    # load model weights after 600 epochs\n",
    "\t\tself.ca_network.load_weights(path+\"weights_stage_1/stage1_ca.h5\")\n",
    "        \n",
    "\t\tself.embedding_compressor = build_embedding_compressor()\n",
    "\t\tself.embedding_compressor.compile(loss='binary_crossentropy', optimizer='Adam')\n",
    "\t\t\n",
    "\t\t# load model weights after 600 epochs\n",
    "\t\tself.embedding_compressor.load_weights(path+\"weights_stage_1/stage1_embco.h5\")\n",
    "\n",
    "    # create the completed GAN model \n",
    "\t\tself.stage1_adversarial = build_adversarial(self.stage1_generator, self.stage1_discriminator)\n",
    "  \n",
    "\t\tself.stage1_adversarial.compile(loss=['binary_crossentropy', adversarial_loss], \n",
    "                                  loss_weights=[1, 2.0], \n",
    "                                  optimizer=self.stage1_generator_optimizer)\n",
    "                                  \n",
    "    # load model weights after 600 epochs\n",
    "\t\tself.stage1_adversarial.load_weights(path+\"weights_stage_1/stage1_adv.h5\")\n",
    "         \n",
    "        \n",
    "\n",
    "\n",
    "\tdef predict_image_generation(self):\n",
    "\t\t\"\"\"Predict the image StackGAN.\n",
    "\t\t\"\"\"\n",
    "\t\t\n",
    "\t\t# for girls dataset\n",
    "\n",
    "\t\tpath = \"/content/drive/MyDrive/gan\"\n",
    "\n",
    "\t\tembeddings_path_text_file = path+\"/init_embedding_values_girls_predict/embed_text_predict.pickle\"\n",
    "\t\t\n",
    "\t\ttext_embeds = load_data_predict(embeddings_path=embeddings_path_text_file)\n",
    "\t\t\n",
    "\n",
    "\t\treal = np.ones((self.batch_size, 1), dtype='float') * 0.9\n",
    "\t\tfake = np.zeros((self.batch_size, 1), dtype='float') * 0.1\n",
    "\n",
    "\t\tlatent_space = np.random.normal(0, 1, size=(self.batch_size, self.z_dim))\n",
    "\t\tembedding_text = text_embeds\n",
    "\t\tcompressed_embedding = self.embedding_compressor.predict_on_batch(embedding_text)\n",
    "\t\tcompressed_embedding = np.reshape(compressed_embedding, (-1, 1, 1, 128))\n",
    "\t\tcompressed_embedding = np.tile(compressed_embedding, (1, 4, 4, 1))\n",
    "\t\n",
    "\n",
    "\t\tdt_now = str(datetime.datetime.now())\n",
    "\t\tprint(dt_now)\n",
    "\t\tgen_images, _ = self.stage1_generator.predict([embedding_text, latent_space])\n",
    "\t\tsave_image(gen_images[0], path+f'/prediction_result/predicted_image_{dt_now[:19]}')\n",
    "\n"
   ],
   "metadata": {
    "id": "9Ji027ryU1Ge",
    "pycharm": {
     "name": "#%%\n"
    }
   },
   "execution_count": 61,
   "outputs": []
  },
  {
   "cell_type": "code",
   "source": [
    "stage1 = StackGanStage1()\n",
    "stage1.predict_image_generation()"
   ],
   "metadata": {
    "colab": {
     "base_uri": "https://localhost:8080/",
     "height": 300
    },
    "id": "9tIGg5mGqEhN",
    "outputId": "116b19aa-262c-43a1-cc40-5b1c352c375a",
    "pycharm": {
     "name": "#%%\n"
    }
   },
   "execution_count": 62,
   "outputs": [
    {
     "output_type": "stream",
     "name": "stdout",
     "text": [
      "(None, 16384)\n"
     ]
    },
    {
     "output_type": "stream",
     "name": "stderr",
     "text": [
      "Clipping input data to the valid range for imshow with RGB data ([0..1] for floats or [0..255] for integers).\n"
     ]
    },
    {
     "output_type": "stream",
     "name": "stdout",
     "text": [
      "2022-06-28 10:23:39.271463\n"
     ]
    },
    {
     "output_type": "display_data",
     "data": {
      "text/plain": [
       "<Figure size 432x288 with 1 Axes>"
      ],
      "image/png": "[encoded data removed]"
     },
     "metadata": {
      "needs_background": "light"
     }
    }
   ]
  }
 ],
 "metadata": {
  "kernelspec": {
   "display_name": "Python 3.9.12 ('tf')",
   "language": "python",
   "name": "python3"
  },
  "language_info": {
   "codemirror_mode": {
    "name": "ipython",
    "version": 3
   },
   "file_extension": ".py",
   "mimetype": "text/x-python",
   "name": "python",
   "nbconvert_exporter": "python",
   "pygments_lexer": "ipython3",
   "version": "3.9.12"
  },
  "orig_nbformat": 4,
  "vscode": {
   "interpreter": {
    "hash": "2d974c4b7c9167b3c2df7ef2f40c9ab050914ef25a32a81d1263224e0dc77032"
   }
  },
  "colab": {
   "name": "stage_1.ipynb",
   "provenance": [],
   "collapsed_sections": [],
   "machine_shape": "hm"
  },
  "gpuClass": "standard",
  "accelerator": "TPU"
 },
 "nbformat": 4,
 "nbformat_minor": 0
}